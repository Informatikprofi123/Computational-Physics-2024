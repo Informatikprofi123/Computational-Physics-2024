{
 "cells": [
  {
   "cell_type": "code",
   "execution_count": 1,
   "id": "399b7b58",
   "metadata": {},
   "outputs": [
    {
     "name": "stdout",
     "output_type": "stream",
     "text": [
      "TORCH VERSION: 1.12.1\n"
     ]
    }
   ],
   "source": [
    "import base64\n",
    "import io\n",
    "import pickle\n",
    "import numpy as np\n",
    "import torch\n",
    "print(f'TORCH VERSION: {torch.__version__}') \n",
    "import packaging.version\n",
    "if packaging.version.parse(torch.__version__) < packaging.version.parse('1.5.0'): raise RuntimeError('Torch versions lower than 1.5.0 not supported')\n",
    "%matplotlib inline\n",
    "import matplotlib.pyplot as plt\n",
    "import seaborn as sns\n",
    "sns.set_style('whitegrid')"
   ]
  },
  {
   "cell_type": "code",
   "execution_count": 2,
   "id": "81229541",
   "metadata": {},
   "outputs": [
    {
     "name": "stdout",
     "output_type": "stream",
     "text": [
      "TORCH DEVICE: cpu\n"
     ]
    }
   ],
   "source": [
    "if torch.cuda.is_available():\n",
    "    torch_device = 'cuda'\n",
    "    float_dtype = np.float32 # single\n",
    "    torch.set_default_tensor_type(torch.cuda.FloatTensor)\n",
    "else:\n",
    "    torch_device = 'cpu'\n",
    "    float_dtype = np.float64 # double\n",
    "    torch.set_default_tensor_type(torch.DoubleTensor)\n",
    "print(f\"TORCH DEVICE: {torch_device}\")"
   ]
  },
  {
   "cell_type": "code",
   "execution_count": 3,
   "id": "47be2398",
   "metadata": {},
   "outputs": [],
   "source": [
    "def torch_mod(x):\n",
    "    return torch.remainder(x, 2*np.pi)\n",
    "def torch_wrap(x):\n",
    "    return torch_mod(x+np.pi) - np.pi\n",
    "\n",
    "def grab(var):\n",
    "    return var.detach().cpu().numpy()"
   ]
  },
  {
   "cell_type": "code",
   "execution_count": 4,
   "id": "e1132939",
   "metadata": {},
   "outputs": [],
   "source": [
    "from IPython.display import display\n",
    "\n",
    "def init_live_plot(dpi=125, figsize=(8,4)):\n",
    "    fig, ax_loss = plt.subplots(1,1, dpi=dpi, figsize=figsize)\n",
    "    plt.xlim(0, N_era*N_epoch)\n",
    "    plt.ylim(0, 1)\n",
    "    \n",
    "    #ess_line = plt.plot([0],[0], alpha=0.5) # dummy\n",
    "    #plt.grid(False)\n",
    "    #plt.ylabel('Loss')\n",
    "    \n",
    "    #ax_loss = ax_loss\n",
    "    loss_line = plt.plot([0],[0], alpha=0.5, c='orange') # dummy\n",
    "    plt.grid(False)\n",
    "    plt.ylabel('Loss')\n",
    "    \n",
    "    plt.xlabel('Epoch')\n",
    "\n",
    "    display_id = display(fig, display_id=True)\n",
    "\n",
    "    return dict(\n",
    "        fig=fig,ax_loss=ax_loss, loss_line=loss_line,\n",
    "        display_id=display_id\n",
    "    )\n",
    "\n",
    "def moving_average(x, window=10):\n",
    "    if len(x) < window:\n",
    "        return np.mean(x, keepdims=True)\n",
    "    else:\n",
    "        return np.convolve(x, np.ones(window), 'valid') / window\n",
    "\n",
    "def update_plots(history, fig, ax_loss, loss_line, display_id):\n",
    "    #Y = np.array(history['ess'])\n",
    "    #Y = moving_average(Y, window=15)\n",
    "    #ess_line[0].set_ydata(Y)\n",
    "    #ess_line[0].set_xdata(np.arange(len(Y)))\n",
    "    Y = history['loss']\n",
    "    Y = moving_average(Y, window=15)\n",
    "    loss_line[0].set_ydata(np.array(Y))\n",
    "    loss_line[0].set_xdata(np.arange(len(Y)))\n",
    "    ax_loss.relim()\n",
    "    ax_loss.autoscale_view()\n",
    "    fig.canvas.draw()\n",
    "    display_id.update(fig) # need to force colab to update plot"
   ]
  },
  {
   "cell_type": "code",
   "execution_count": 5,
   "id": "1d59607d",
   "metadata": {},
   "outputs": [],
   "source": [
    "class SimpleNormal:\n",
    "    def __init__(self, loc, var):\n",
    "        self.dist = torch.distributions.normal.Normal(\n",
    "            torch.flatten(loc), torch.flatten(var))\n",
    "        self.shape = loc.shape\n",
    "    def log_prob(self, x):\n",
    "        logp = self.dist.log_prob(x.reshape(x.shape[0], -1))\n",
    "        return torch.sum(logp, dim=1)\n",
    "    def sample_n(self, batch_size):\n",
    "        x = self.dist.sample((batch_size,))\n",
    "        return x.reshape(batch_size, *self.shape)"
   ]
  },
  {
   "cell_type": "code",
   "execution_count": 6,
   "id": "fac690ec",
   "metadata": {},
   "outputs": [],
   "source": [
    "L=8\n",
    "lattice_shape = (L,L) \n",
    "link_shape = (2,L,L)\n",
    "# some arbitrary configurations\n",
    "u1_ex1 = 2*np.pi*np.random.random(size=link_shape).astype(float_dtype)\n",
    "u1_ex2 = 2*np.pi*np.random.random(size=link_shape).astype(float_dtype)\n",
    "cfgs = torch.from_numpy(np.stack((u1_ex1, u1_ex2), axis=0)).to(torch_device)"
   ]
  },
  {
   "cell_type": "code",
   "execution_count": 7,
   "id": "2a1032d2",
   "metadata": {},
   "outputs": [],
   "source": [
    " def compute_u1_plaq(links, mu, nu):\n",
    "    \"\"\"Compute U(1) plaquettes in the (mu,nu) plane given `links` = arg(U)\"\"\" \n",
    "    return (links[:,mu] + torch.roll(links[:,nu], -1, mu+1)\n",
    "            - torch.roll(links[:,mu], -1, nu+1) - links[:,nu])"
   ]
  },
  {
   "cell_type": "code",
   "execution_count": 8,
   "id": "cf5e2e00",
   "metadata": {},
   "outputs": [],
   "source": [
    "class WilsonAction:\n",
    "    def __init__(self, beta):\n",
    "        self.beta = beta\n",
    "        \n",
    "    def __call__(self, config):\n",
    "        action = 0.0\n",
    "        L = config.shape[1]\n",
    "        for x0 in range(L):\n",
    "            for x1 in range(L):\n",
    "                x = (x0, x1)\n",
    "                U_plaq = compute_u1_plaq(config,x0,x1)\n",
    "                action += (1 - torch.cos(U_plaq)).sum().item()\n",
    "        return -self.beta * action\n",
    "        \n",
    "    def plaquette(self, x, config):\n",
    "        L = config.shape[1]\n",
    "        U_mu = config[0, x[0], x[1]]\n",
    "        U_munu = config[1, (x[0] + 1) % L, x[1]]\n",
    "        U_nu = config[0, x[0], (x[1] + 1) % L]\n",
    "        U_nu_mu = config[1, x[0], x[1]]\n",
    "        \n",
    "        return U_mu + U_munu - U_nu - U_nu_mu\n",
    "    \n",
    "\n",
    "\n"
   ]
  },
  {
   "cell_type": "code",
   "execution_count": 9,
   "id": "03433cf2",
   "metadata": {},
   "outputs": [],
   "source": [
    "beta = 1\n",
    "u1_action = WilsonAction(beta)"
   ]
  },
  {
   "cell_type": "code",
   "execution_count": 10,
   "id": "b0de66ca",
   "metadata": {},
   "outputs": [],
   "source": [
    "class MultivariateUniform(torch.nn.Module): \n",
    "    \"\"\"Uniformly draw samples from [a,b]\"\"\" \n",
    "    def __init__(self, a, b):\n",
    "        super().__init__()\n",
    "        self.dist = torch.distributions.uniform.Uniform(a, b)\n",
    "    def log_prob(self, x):\n",
    "        axes = range(1, len(x.shape))\n",
    "        return torch.sum(self.dist.log_prob(x), dim=tuple(axes))\n",
    "    def sample_n(self, batch_size):\n",
    "        return self.dist.sample((batch_size,))"
   ]
  },
  {
   "cell_type": "code",
   "execution_count": 11,
   "id": "10bb5263",
   "metadata": {},
   "outputs": [
    {
     "name": "stdout",
     "output_type": "stream",
     "text": [
      "z.shape = torch.Size([17, 2, 8, 8])\n",
      "log r(z) = [-235.2482645 -235.2482645 -235.2482645 -235.2482645 -235.2482645\n",
      " -235.2482645 -235.2482645 -235.2482645 -235.2482645 -235.2482645\n",
      " -235.2482645 -235.2482645 -235.2482645 -235.2482645 -235.2482645\n",
      " -235.2482645 -235.2482645]\n"
     ]
    }
   ],
   "source": [
    "prior = MultivariateUniform(torch.zeros(link_shape), 2*np.pi*torch.ones(link_shape)) \n",
    "z = prior.sample_n(17)\n",
    "print(f'z.shape = {z.shape}')\n",
    "print(f'log r(z) = {grab(prior.log_prob(z))}')"
   ]
  },
  {
   "cell_type": "code",
   "execution_count": 12,
   "id": "2d08988c",
   "metadata": {},
   "outputs": [],
   "source": [
    "class GaugeEquivCouplingLayer(torch.nn.Module):\n",
    "    \"\"\"U(1) gauge equiv coupling layer defined by `plaq_coupling` acting on plaquettes.\"\"\" \n",
    "    def __init__(self, *, lattice_shape, mask_mu, mask_off, plaq_coupling):\n",
    "        super().__init__()\n",
    "        link_mask_shape = (len(lattice_shape),) + lattice_shape\n",
    "        self.active_mask = make_2d_link_active_stripes(link_mask_shape, mask_mu, mask_off)\n",
    "        self.plaq_coupling = plaq_coupling\n",
    "        \n",
    "    def forward(self, x):\n",
    "        plaq = compute_u1_plaq(x, mu=0, nu=1)\n",
    "        new_plaq, logJ = self.plaq_coupling(plaq)\n",
    "        delta_plaq = new_plaq - plaq\n",
    "        delta_links = torch.stack((delta_plaq, -delta_plaq), dim=1) # signs for U vs Udagger \n",
    "        fx = self.active_mask * torch_mod(delta_links + x) + (1-self.active_mask) * x\n",
    "        return fx, logJ\n",
    "    \n",
    "    def reverse(self, fx):\n",
    "        new_plaq = compute_u1_plaq(fx, mu=0, nu=1)\n",
    "        plaq, logJ = self.plaq_coupling.reverse(new_plaq)\n",
    "        delta_plaq = plaq - new_plaq\n",
    "        delta_links = torch.stack((delta_plaq, -delta_plaq), dim=1) # signs for U vs Udagger \n",
    "        x = self.active_mask * torch_mod(delta_links + fx) + (1-self.active_mask) * fx \n",
    "        return x, logJ"
   ]
  },
  {
   "cell_type": "code",
   "execution_count": 13,
   "id": "fb736da1",
   "metadata": {},
   "outputs": [],
   "source": [
    "def make_2d_link_active_stripes(shape, mu, off):\n",
    "    assert len(shape) == 2+1, 'need to pass shape suitable for 2D gauge theory' \n",
    "    assert shape[0] == len(shape[1:]), 'first dim of shape must be Nd'\n",
    "    assert mu in (0,1), 'mu must be 0 or 1'\n",
    "    \n",
    "    mask = np.zeros(shape).astype(np.uint8)\n",
    "    if mu == 0:\n",
    "        mask[mu,:,0::4] = 1\n",
    "    elif mu == 1:\n",
    "        mask[mu,0::4] = 1\n",
    "    nu = 1-mu\n",
    "    mask = np.roll(mask, off, axis=nu+1)\n",
    "    return torch.from_numpy(mask.astype(float_dtype)).to(torch_device)"
   ]
  },
  {
   "cell_type": "code",
   "execution_count": 14,
   "id": "144684ce",
   "metadata": {},
   "outputs": [],
   "source": [
    " def make_single_stripes(shape, mu, off): \n",
    "    assert len(shape) == 2, 'need to pass 2D shape'\n",
    "    assert mu in (0,1), 'mu must be 0 or 1'\n",
    "    \n",
    "    mask = np.zeros(shape).astype(np.uint8)\n",
    "    if mu == 0:\n",
    "        mask[:,0::4] = 1\n",
    "    elif mu == 1:\n",
    "        mask[0::4] = 1\n",
    "    mask = np.roll(mask, off, axis=1-mu)\n",
    "    return torch.from_numpy(mask).to(torch_device)"
   ]
  },
  {
   "cell_type": "code",
   "execution_count": 15,
   "id": "a7339049",
   "metadata": {},
   "outputs": [],
   "source": [
    "def make_double_stripes(shape, mu, off):\n",
    "    \"\"\"\n",
    "    Double stripes mask looks like::\n",
    "\n",
    "      1 1 0 0 1 1 0 0\n",
    "      1 1 0 0 1 1 0 0\n",
    "      1 1 0 0 1 1 0 0\n",
    "      1 1 0 0 1 1 0 0\n",
    "\n",
    "    where vertical is the `mu` direction. The pattern is offset in perpendicular\n",
    "    to the mu direction by `off` (mod 4).\n",
    "    \"\"\"\n",
    "    assert len(shape) == 2, 'need to pass 2D shape'\n",
    "    assert mu in (0,1), 'mu must be 0 or 1'\n",
    "\n",
    "    mask = np.zeros(shape).astype(np.uint8)\n",
    "    if mu == 0:\n",
    "        mask[:,0::4] = 1\n",
    "        mask[:,1::4] = 1\n",
    "    elif mu == 1:\n",
    "        mask[0::4] = 1\n",
    "        mask[1::4] = 1\n",
    "    mask = np.roll(mask, off, axis=1-mu)\n",
    "    return torch.from_numpy(mask).to(torch_device)"
   ]
  },
  {
   "cell_type": "code",
   "execution_count": 16,
   "id": "20736fa4",
   "metadata": {},
   "outputs": [],
   "source": [
    "def make_plaq_masks(mask_shape, mask_mu, mask_off):\n",
    "    mask = {}\n",
    "    mask['frozen'] = make_double_stripes(mask_shape, mask_mu, mask_off+1)\n",
    "    mask['active'] = make_single_stripes(mask_shape, mask_mu, mask_off)\n",
    "    mask['passive'] = 1 - mask['frozen'] - mask['active']\n",
    "    return mask"
   ]
  },
  {
   "cell_type": "code",
   "execution_count": 17,
   "id": "fd020228",
   "metadata": {},
   "outputs": [],
   "source": [
    "def tan_transform(x, s):\n",
    "    return torch_mod(2*torch.atan(torch.exp(s)*torch.tan(x/2)))\n",
    "\n",
    "def tan_transform_logJ(x, s):\n",
    "    return -torch.log(torch.exp(-s)*torch.cos(x/2)**2 + torch.exp(s)*torch.sin(x/2)**2)"
   ]
  },
  {
   "cell_type": "code",
   "execution_count": 18,
   "id": "770476fa",
   "metadata": {},
   "outputs": [],
   "source": [
    "def mixture_tan_transform(x, s):\n",
    "    assert len(x.shape) == len(s.shape), \\\n",
    "        f'Dimension mismatch between x and s {x.shape} vs {s.shape}'\n",
    "    return torch.mean(tan_transform(x, s), dim=1, keepdim=True)\n",
    "\n",
    "def mixture_tan_transform_logJ(x, s):\n",
    "    assert len(x.shape) == len(s.shape), \\\n",
    "        f'Dimension mismatch between x and s {x.shape} vs {s.shape}'\n",
    "    return torch.logsumexp(tan_transform_logJ(x, s), dim=1) - np.log(s.shape[1])"
   ]
  },
  {
   "cell_type": "code",
   "execution_count": 19,
   "id": "94b6fc89",
   "metadata": {},
   "outputs": [],
   "source": [
    "def invert_transform_bisect(y, *, f, tol, max_iter, a=0, b=2*np.pi):\n",
    "    min_x = a*torch.ones_like(y)\n",
    "    max_x = b*torch.ones_like(y)\n",
    "    min_val = f(min_x)\n",
    "    max_val = f(max_x)\n",
    "    with torch.no_grad():\n",
    "        for i in range(max_iter):\n",
    "            mid_x = (min_x + max_x) / 2\n",
    "            mid_val = f(mid_x)\n",
    "            greater_mask = (y > mid_val).int()\n",
    "            greater_mask = greater_mask.float()\n",
    "            err = torch.max(torch.abs(y - mid_val))\n",
    "            if err < tol: return mid_x\n",
    "            if torch.all((mid_x == min_x) + (mid_x == max_x)):\n",
    "                print('WARNING: Reached floating point precision before tolerance '\n",
    "                      f'(iter {i}, err {err})')\n",
    "                return mid_x\n",
    "            min_x = greater_mask*mid_x + (1-greater_mask)*min_x\n",
    "            min_val = greater_mask*mid_val + (1-greater_mask)*min_val\n",
    "            max_x = (1-greater_mask)*mid_x + greater_mask*max_x\n",
    "            max_val = (1-greater_mask)*mid_val + greater_mask*max_val\n",
    "        print(f'WARNING: Did not converge to tol {tol} in {max_iter} iters! Error was {err}')\n",
    "        return mid_x"
   ]
  },
  {
   "cell_type": "code",
   "execution_count": 20,
   "id": "a4adad0d",
   "metadata": {},
   "outputs": [],
   "source": [
    "def stack_cos_sin(x):\n",
    "    return torch.stack((torch.cos(x), torch.sin(x)), dim=1)"
   ]
  },
  {
   "cell_type": "code",
   "execution_count": 21,
   "id": "0422409b",
   "metadata": {},
   "outputs": [],
   "source": [
    "class NCPPlaqCouplingLayer(torch.nn.Module):\n",
    "    def __init__(self, net, *, mask_shape, mask_mu, mask_off,\n",
    "                 inv_prec=1e-6, inv_max_iter=1000):\n",
    "        super().__init__()\n",
    "        assert len(mask_shape) == 2, (\n",
    "            f'NCPPlaqCouplingLayer is implemented only in 2D, '\n",
    "            f'mask shape {mask_shape} is invalid')\n",
    "        self.mask = make_plaq_masks(mask_shape, mask_mu, mask_off)\n",
    "        self.net = net\n",
    "        self.inv_prec = inv_prec\n",
    "        self.inv_max_iter = inv_max_iter\n",
    "\n",
    "    def forward(self, x):\n",
    "        x2 = self.mask['frozen'] * x\n",
    "        net_out = self.net(stack_cos_sin(x2))\n",
    "        assert net_out.shape[1] >= 2, 'CNN must output n_mix (s_i) + 1 (t) channels'\n",
    "        s, t = net_out[:,:-1], net_out[:,-1]\n",
    "\n",
    "        x1 = self.mask['active'] * x\n",
    "        x1 = x1.unsqueeze(1)\n",
    "        local_logJ = self.mask['active'] * mixture_tan_transform_logJ(x1, s)\n",
    "        axes = tuple(range(1, len(local_logJ.shape)))\n",
    "        logJ = torch.sum(local_logJ, dim=axes)\n",
    "        fx1 = self.mask['active'] * mixture_tan_transform(x1, s).squeeze(1)\n",
    "\n",
    "        fx = (\n",
    "            self.mask['active'] * torch_mod(fx1 + t) +\n",
    "            self.mask['passive'] * x +\n",
    "            self.mask['frozen'] * x)\n",
    "        return fx, logJ\n",
    "        \n",
    "    def reverse(self, fx):\n",
    "        fx2 = self.mask['frozen'] * fx\n",
    "        net_out = self.net(stack_cos_sin(fx2))\n",
    "        assert net_out.shape[1] >= 2, 'CNN must output n_mix (s_i) + 1 (t) channels'\n",
    "        s, t = net_out[:,:-1], net_out[:,-1]\n",
    "\n",
    "        x1 = torch_mod(self.mask['active'] * (fx - t).unsqueeze(1))\n",
    "        transform = lambda x: self.mask['active'] * mixture_tan_transform(x, s)\n",
    "        x1 = invert_transform_bisect(\n",
    "            x1, f=transform, tol=self.inv_prec, max_iter=self.inv_max_iter)\n",
    "        local_logJ = self.mask['active'] * mixture_tan_transform_logJ(x1, s)\n",
    "        axes = tuple(range(1, len(local_logJ.shape)))\n",
    "        logJ = -torch.sum(local_logJ, dim=axes)\n",
    "        x1 = x1.squeeze(1)\n",
    "\n",
    "        x = (\n",
    "            self.mask['active'] * x1 +\n",
    "            self.mask['passive'] * fx +\n",
    "            self.mask['frozen'] * fx2)\n",
    "        return x, logJ"
   ]
  },
  {
   "cell_type": "code",
   "execution_count": 22,
   "id": "c63f93e0",
   "metadata": {},
   "outputs": [],
   "source": [
    "def make_u1_equiv_layers(*, n_layers, n_mixture_comps, lattice_shape, hidden_sizes, kernel_size):\n",
    "    layers = []\n",
    "    for i in range(n_layers):\n",
    "        # periodically loop through all arrangements of maskings\n",
    "        mu = i % 2\n",
    "        off = (i//2) % 4\n",
    "        in_channels = 2 # x - > (cos(x), sin(x))\n",
    "        out_channels = n_mixture_comps + 1 # for mixture s and t, respectively\n",
    "        net = make_conv_net(in_channels=in_channels, out_channels=out_channels,\n",
    "            hidden_sizes=hidden_sizes, kernel_size=kernel_size,\n",
    "            use_final_tanh=False)\n",
    "        plaq_coupling = NCPPlaqCouplingLayer(\n",
    "            net, mask_shape=lattice_shape, mask_mu=mu, mask_off=off)\n",
    "        link_coupling = GaugeEquivCouplingLayer(\n",
    "            lattice_shape=lattice_shape, mask_mu=mu, mask_off=off, \n",
    "            plaq_coupling=plaq_coupling)\n",
    "        layers.append(link_coupling)\n",
    "    return torch.nn.ModuleList(layers)"
   ]
  },
  {
   "cell_type": "code",
   "execution_count": 23,
   "id": "83862404",
   "metadata": {},
   "outputs": [],
   "source": [
    "def make_conv_net(*, hidden_sizes, kernel_size, in_channels, out_channels, use_final_tanh):\n",
    "    sizes = [in_channels] + hidden_sizes + [out_channels]\n",
    "    assert packaging.version.parse(torch.__version__) >= packaging.version.parse('1.5.0')\n",
    "    assert kernel_size % 2 == 1, 'kernel size must be odd for PyTorch >= 1.5.0'\n",
    "    padding_size = (kernel_size // 2)\n",
    "    net = []\n",
    "    for i in range(len(sizes) - 1):\n",
    "        net.append(torch.nn.Conv2d(\n",
    "            sizes[i], sizes[i+1], kernel_size, padding=padding_size,\n",
    "            stride=1, padding_mode='circular'))\n",
    "        if i != len(sizes) - 2:\n",
    "            net.append(torch.nn.LeakyReLU())\n",
    "        else:\n",
    "            if use_final_tanh:\n",
    "                net.append(torch.nn.Tanh())\n",
    "    return torch.nn.Sequential(*net)"
   ]
  },
  {
   "cell_type": "code",
   "execution_count": 24,
   "id": "c15eedaf",
   "metadata": {},
   "outputs": [],
   "source": [
    "class SimpleCouplingLayer(torch.nn.Module):\n",
    "    def __init__(self):\n",
    "        super().__init__()\n",
    "        self.s = torch.nn.Sequential(\n",
    "            torch.nn.Linear(1, 8),\n",
    "            torch.nn.ReLU(),\n",
    "            torch.nn.Linear(8, 8),\n",
    "            torch.nn.ReLU(),\n",
    "            torch.nn.Linear(8, 1),\n",
    "            torch.nn.Tanh()\n",
    "        )\n",
    "    def forward(self, x):\n",
    "        x1, x2 = x[:,0], x[:,1]\n",
    "        s = self.s(x2.unsqueeze(-1)).squeeze(-1)\n",
    "        fx1 = torch.exp(s) * x1\n",
    "        fx2 = x2\n",
    "        logJ = s\n",
    "        return torch.stack((fx1, fx2), dim=-1), logJ\n",
    "    def reverse(self, fx):\n",
    "        fx1, fx2 = fx[:,0], fx[:,1]\n",
    "        x2 = fx2\n",
    "        s = self.s(x2.unsqueeze(-1)).squeeze(-1)\n",
    "        logJ = -s\n",
    "        x1 = torch.exp(-s) * fx1\n",
    "        return torch.stack((x1, x2), dim=-1), logJ\n",
    "\n",
    "coupling_layer = SimpleCouplingLayer()\n",
    "\n",
    "def set_weights(m):\n",
    "    if hasattr(m, 'weight') and m.weight is not None:\n",
    "        torch.nn.init.normal_(m.weight, mean=1, std=2)\n",
    "    if hasattr(m, 'bias') and m.bias is not None:\n",
    "        m.bias.data.fill_(-1)\n",
    "torch.manual_seed(1234)\n",
    "coupling_layer.s.apply(set_weights);"
   ]
  },
  {
   "cell_type": "code",
   "execution_count": 25,
   "id": "f9d90baf",
   "metadata": {},
   "outputs": [],
   "source": [
    "use_pretrained = False"
   ]
  },
  {
   "cell_type": "code",
   "execution_count": 26,
   "id": "0556020f",
   "metadata": {},
   "outputs": [],
   "source": [
    "def apply_flow_to_prior(prior, coupling_layers, *, batch_size):\n",
    "    x = prior.sample_n(batch_size)\n",
    "    logq = prior.log_prob(x)\n",
    "    for layer in coupling_layers:\n",
    "        x, logJ = layer.forward(x)\n",
    "        logq = logq - logJ\n",
    "    return x, logq"
   ]
  },
  {
   "cell_type": "code",
   "execution_count": 27,
   "id": "e0df4b02",
   "metadata": {},
   "outputs": [],
   "source": [
    "def KLdiv(logp, logq):\n",
    "    return (logq - logp).mean()"
   ]
  },
  {
   "cell_type": "code",
   "execution_count": 28,
   "id": "fdf76bea",
   "metadata": {},
   "outputs": [],
   "source": [
    "def compute_ess(logp, logq):\n",
    "    logw = logp - logq\n",
    "    log_ess = 2*torch.logsumexp(logw, dim=0) - torch.logsumexp(2*logw, dim=0)\n",
    "    ess_per_cfg = torch.exp(log_ess) / len(logw)\n",
    "    return ess_per_cfg"
   ]
  },
  {
   "cell_type": "code",
   "execution_count": 29,
   "id": "c1f8c76c",
   "metadata": {},
   "outputs": [],
   "source": [
    "def print_metrics(history, avg_last_N_epochs):\n",
    "    print(f'== Era {era} | Epoch {epoch} metrics ==')\n",
    "    for key, val in history.items():\n",
    "        avgd = np.mean(val[-avg_last_N_epochs:])\n",
    "        print(f'\\t{key} {avgd:g}')"
   ]
  },
  {
   "cell_type": "code",
   "execution_count": 36,
   "id": "38df4e35",
   "metadata": {},
   "outputs": [],
   "source": [
    "def train_step(model, action, loss_fn, optimizer, metrics):\n",
    "    layers, prior = model['layers'], model['prior']\n",
    "    optimizer.zero_grad()\n",
    "\n",
    "    x, logq = apply_flow_to_prior(prior, layers, batch_size=batch_size)\n",
    "    logp = -action(x)\n",
    "    loss = KLdiv(logp, logq)\n",
    "    loss.backward()\n",
    "\n",
    "    optimizer.step()\n",
    "\n",
    "    metrics['loss'].append(grab(loss))\n",
    "    metrics['logp'].append(grab(logp))\n",
    "    metrics['logq'].append(grab(logq))\n",
    "    metrics['ess'].append(grab( compute_ess(logp, logq) ))"
   ]
  },
  {
   "cell_type": "code",
   "execution_count": 31,
   "id": "a9503683",
   "metadata": {},
   "outputs": [],
   "source": [
    "# Theory\n",
    "L = 8\n",
    "lattice_shape = (L,L)\n",
    "link_shape = (2,L,L)\n",
    "beta = 2.0\n",
    "u1_action = WilsonAction(beta)\n",
    "\n",
    "# Model\n",
    "prior = MultivariateUniform(torch.zeros(link_shape), 2*np.pi*torch.ones(link_shape))\n",
    "\n",
    "n_layers = 16\n",
    "n_s_nets = 2\n",
    "hidden_sizes = [8,8]\n",
    "kernel_size = 3\n",
    "layers = make_u1_equiv_layers(lattice_shape=lattice_shape, n_layers=n_layers, n_mixture_comps=n_s_nets,\n",
    "                             hidden_sizes=hidden_sizes, kernel_size=kernel_size)\n",
    "set_weights(layers)\n",
    "model = {'layers': layers, 'prior': prior}\n",
    "\n",
    "# Training\n",
    "base_lr = .001\n",
    "optimizer = torch.optim.Adam(model['layers'].parameters(), lr=base_lr)"
   ]
  },
  {
   "cell_type": "code",
   "execution_count": 32,
   "id": "003e5ee4",
   "metadata": {},
   "outputs": [],
   "source": [
    "N_era = 1\n",
    "N_epoch = 10\n",
    "batch_size = 64\n",
    "print_freq = N_epoch # epochs\n",
    "plot_freq = 1 # epochs\n",
    "\n",
    "history = {\n",
    "    'loss' : [],\n",
    "    'logp' : [],\n",
    "    'logq' : [],\n",
    "    'ess' : []\n",
    "}"
   ]
  },
  {
   "cell_type": "code",
   "execution_count": 37,
   "id": "768bec3f",
   "metadata": {
    "scrolled": true
   },
   "outputs": [
    {
     "data": {
      "image/png": "[encoded data removed]",
      "text/plain": [
       "<Figure size 1000x500 with 1 Axes>"
      ]
     },
     "metadata": {},
     "output_type": "display_data"
    },
    {
     "data": {
      "image/png": "[encoded data removed]",
      "text/plain": [
       "<Figure size 1000x500 with 1 Axes>"
      ]
     },
     "metadata": {},
     "output_type": "display_data"
    }
   ],
   "source": [
    "if not use_pretrained:\n",
    "    [plt.close(plt.figure(fignum)) for fignum in plt.get_fignums()] # close all existing figures\n",
    "    live_plot = init_live_plot()\n",
    "\n",
    "    for era in range(N_era):\n",
    "        for epoch in range(N_epoch):\n",
    "            train_step(model, u1_action, KLdiv, optimizer, history)\n",
    "\n",
    "            if epoch % print_freq == 0:\n",
    "                #print_metrics(history, avg_last_N_epochs=print_freq)\n",
    "                pass\n",
    "                  \n",
    "            if epoch % plot_freq == 0:\n",
    "                update_plots(history, **live_plot)\n",
    "                \n",
    "            \n",
    "\n",
    "\n",
    "else:\n",
    "    print('Skipping training')"
   ]
  },
  {
   "cell_type": "code",
   "execution_count": 38,
   "id": "9ef166be",
   "metadata": {},
   "outputs": [
    {
     "name": "stdout",
     "output_type": "stream",
     "text": [
      "[array(-264.24133328), array(-268.09951365), array(-269.13939665), array(-271.8094558), array(-273.94451339), array(-276.26897393), array(-275.48076081), array(-277.25610001), array(-276.99395934), array(-277.52339833)]\n"
     ]
    }
   ],
   "source": [
    "Y = history['loss']\n",
    "print(Y)"
   ]
  },
  {
   "cell_type": "code",
   "execution_count": 39,
   "id": "cb902245",
   "metadata": {},
   "outputs": [
    {
     "data": {
      "text/plain": [
       "Text(0, 0.5, 'Loss')"
      ]
     },
     "execution_count": 39,
     "metadata": {},
     "output_type": "execute_result"
    },
    {
     "data": {
      "image/png": "[encoded data removed]",
      "text/plain": [
       "<Figure size 640x480 with 1 Axes>"
      ]
     },
     "metadata": {},
     "output_type": "display_data"
    }
   ],
   "source": [
    "Y = history['loss']\n",
    "X = np.linspace(0,N_epoch,N_epoch)\n",
    "plt.plot(X,Y)\n",
    "plt.grid('False')\n",
    "plt.xlabel('Epoch')\n",
    "plt.ylabel('Loss')"
   ]
  },
  {
   "cell_type": "code",
   "execution_count": null,
   "id": "eeb0f1e3",
   "metadata": {},
   "outputs": [],
   "source": [
    "print('Model weights blob:\\n===')\n",
    "serialized_model = io.BytesIO()\n",
    "torch.save(model['layers'].state_dict(), serialized_model)\n",
    "print(base64.b64encode(serialized_model.getbuffer()).decode('utf-8'))\n",
    "print('===')"
   ]
  },
  {
   "cell_type": "code",
   "execution_count": null,
   "id": "3ac1e5df",
   "metadata": {},
   "outputs": [],
   "source": [
    "def serial_sample_generator(model, action, batch_size, N_samples):\n",
    "    layers, prior = model['layers'], model['prior']\n",
    "    layers.eval()\n",
    "    x, logq, logp = None, None, None\n",
    "    for i in range(N_samples):\n",
    "        batch_i = i % batch_size\n",
    "        if batch_i == 0:\n",
    "            # we're out of samples to propose, generate a new batch\n",
    "            x, logq = apply_flow_to_prior(prior, layers, batch_size=batch_size)\n",
    "            logp = -action(x)\n",
    "        yield x[batch_i], logq[batch_i], logp[batch_i]"
   ]
  },
  {
   "cell_type": "code",
   "execution_count": null,
   "id": "81ebd2ef",
   "metadata": {},
   "outputs": [],
   "source": [
    "def make_mcmc_ensemble(model, action, batch_size, N_samples):\n",
    "    history = {\n",
    "        'x' : [],\n",
    "        'logq' : [],\n",
    "        'logp' : [],\n",
    "        'accepted' : []\n",
    "    }\n",
    "\n",
    "    # build Markov chain\n",
    "    sample_gen = serial_sample_generator(model, action, batch_size, N_samples)\n",
    "    for new_x, new_logq, new_logp in sample_gen:\n",
    "        if len(history['logp']) == 0:\n",
    "            # always accept first proposal, Markov chain must start somewhere\n",
    "            accepted = True\n",
    "        else: \n",
    "            # Metropolis acceptance condition\n",
    "            last_logp = history['logp'][-1]\n",
    "            last_logq = history['logq'][-1]\n",
    "            p_accept = torch.exp((new_logp - new_logq) - (last_logp - last_logq))\n",
    "            p_accept = min(1, p_accept)\n",
    "            draw = torch.rand(1) # ~ [0,1]\n",
    "            if draw < p_accept:\n",
    "                accepted = True\n",
    "            else:\n",
    "                accepted = False\n",
    "                new_x = history['x'][-1]\n",
    "                new_logp = last_logp\n",
    "                new_logq = last_logq\n",
    "        # Update Markov chain\n",
    "        history['logp'].append(new_logp)\n",
    "        history['logq'].append(new_logq)\n",
    "        history['x'].append(new_x)\n",
    "        history['accepted'].append(accepted)\n",
    "    return history"
   ]
  },
  {
   "cell_type": "code",
   "execution_count": null,
   "id": "a1c37d7a",
   "metadata": {},
   "outputs": [],
   "source": [
    "ensemble_size = 8192\n",
    "u1_ens = make_mcmc_ensemble(model, u1_action, 64, ensemble_size)\n",
    "print(\"Accept rate:\", np.mean(u1_ens['accepted']))"
   ]
  },
  {
   "cell_type": "code",
   "execution_count": null,
   "id": "433096f4",
   "metadata": {},
   "outputs": [],
   "source": [
    "def bootstrap(x, *, Nboot, binsize):\n",
    "    boots = []\n",
    "    x = x.reshape(-1, binsize, *x.shape[1:])\n",
    "    for i in range(Nboot):\n",
    "        boots.append(np.mean(x[np.random.randint(len(x), size=len(x))], axis=(0,1)))\n",
    "    return np.mean(boots), np.std(boots)\n",
    "\n",
    "def topo_charge(x):\n",
    "    P01 = torch_wrap(compute_u1_plaq(x, mu=0, nu=1))\n",
    "    axes = tuple(range(1, len(P01.shape)))\n",
    "    return torch.sum(P01, dim=axes) / (2*np.pi)\n",
    "\n",
    "Q = grab(topo_charge(torch.stack(u1_ens['x'], axis=0)))\n",
    "\n",
    "X_mean, X_err = bootstrap(Q**2, Nboot=100, binsize=16)\n",
    "print(X_err)"
   ]
  }
 ],
 "metadata": {
  "kernelspec": {
   "display_name": "Python 3 (ipykernel)",
   "language": "python",
   "name": "python3"
  },
  "language_info": {
   "codemirror_mode": {
    "name": "ipython",
    "version": 3
   },
   "file_extension": ".py",
   "mimetype": "text/x-python",
   "name": "python",
   "nbconvert_exporter": "python",
   "pygments_lexer": "ipython3",
   "version": "3.10.9"
  }
 },
 "nbformat": 4,
 "nbformat_minor": 5
}
